{
 "cells": [
  {
   "attachments": {},
   "cell_type": "markdown",
   "metadata": {},
   "source": [
    "# Pytorch: Ways to build PyTorch models using [Module, Sequential, ModuleList and ModuleDict]\n",
    "\n",
    "![Alt text](images/simple_neural_network_header.jpg)\n",
    "\n",
    "![Alt text](images/ResBlock.png)"
   ]
  },
  {
   "cell_type": "code",
   "execution_count": 14,
   "metadata": {},
   "outputs": [],
   "source": [
    "import torch\n",
    "from torch import nn\n",
    "\n",
    "model_0 = nn.Sequential(\n",
    "    nn.Flatten(),\n",
    "    nn.Linear(150528,10),\n",
    "    nn.Linear(10,2)\n",
    ")\n",
    "\n",
    "model_1 = nn.Sequential(\n",
    "    nn.Conv2d(3,64,(3,3)),\n",
    "    nn.Conv2d(64,128,(3,3)),\n",
    "    nn.Dropout(p=0.2),\n",
    "    nn.Conv2d(128,3,(3,3)),\n",
    ")\n",
    "\n",
    "model_2 = nn.Sequential(\n",
    "    model_1,\n",
    "    nn.Flatten(),\n",
    "    nn.Linear(142572,15)\n",
    ")"
   ]
  },
  {
   "cell_type": "code",
   "execution_count": 15,
   "metadata": {},
   "outputs": [
    {
     "name": "stdout",
     "output_type": "stream",
     "text": [
      "torch.Size([1, 2])\n",
      "torch.Size([1, 3, 218, 218])\n",
      "torch.Size([1, 15])\n"
     ]
    }
   ],
   "source": [
    "rand_img = torch.randn((1,3,224,224)) # 3*224*224 -> 150528\n",
    "out_0 = model_0(rand_img)\n",
    "print(out_0.shape)\n",
    "\n",
    "out_1 = model_1(rand_img)\n",
    "print(out_1.shape)\n",
    "\n",
    "out_2 = model_2(rand_img)\n",
    "print(out_2.shape)"
   ]
  },
  {
   "attachments": {},
   "cell_type": "markdown",
   "metadata": {},
   "source": [
    "# how to build using class \n",
    "# lets create a classic cnn classifier"
   ]
  },
  {
   "cell_type": "code",
   "execution_count": 17,
   "metadata": {},
   "outputs": [],
   "source": [
    "import torch.nn.functional as F\n",
    "\n",
    "class MyCNNClassifier(nn.Module):\n",
    "    def __init__(self,in_c,n_classes):\n",
    "        super(MyCNNClassifier,self).__init__()\n",
    "\n",
    "        self.conv1 = nn.Conv2d(in_c,32,\n",
    "                            kernel_size=3,stride=1,padding=1)\n",
    "        self.bn1 = nn.BatchNorm2d(32)\n",
    "\n",
    "        self.conv2 = nn.Conv2d(32,64,\n",
    "                            kernel_size=3,stride=1,padding=1)\n",
    "        self.bn1 = nn.BatchNorm2d(64)\n",
    "\n",
    "        self.fc1 = nn.Linear(64*28*28,1024)\n",
    "        self.fc2 = nn.Linear(1024,n_classes)\n",
    "\n",
    "    def forward(self, x:torch.Tensor) -> torch.Tensor:\n",
    "        x1 = self.conv1(x)\n",
    "        x2 = self.bn1(x1)\n",
    "        x3 = F.relu(x2)\n",
    "\n",
    "        x4 = self.conv2(x3)\n",
    "        x5 = self.bn2(x4)\n",
    "        x6 = F.relu(x5)\n",
    "\n",
    "        x7 = x6.view(x.size(0),-1)\n",
    "\n",
    "        x8 = self.fc1(x7)\n",
    "        x9 = F.sigmoid(x8)\n",
    "        x10 = self.fc2(x9)\n",
    "        return x10\n"
   ]
  },
  {
   "cell_type": "code",
   "execution_count": 18,
   "metadata": {},
   "outputs": [
    {
     "name": "stdout",
     "output_type": "stream",
     "text": [
      "MyCNNClassifier(\n",
      "  (conv1): Conv2d(1, 32, kernel_size=(3, 3), stride=(1, 1), padding=(1, 1))\n",
      "  (bn1): BatchNorm2d(64, eps=1e-05, momentum=0.1, affine=True, track_running_stats=True)\n",
      "  (conv2): Conv2d(32, 64, kernel_size=(3, 3), stride=(1, 1), padding=(1, 1))\n",
      "  (fc1): Linear(in_features=50176, out_features=1024, bias=True)\n",
      "  (fc2): Linear(in_features=1024, out_features=10, bias=True)\n",
      ")\n"
     ]
    }
   ],
   "source": [
    "model = MyCNNClassifier(1,10)\n",
    "print(model)"
   ]
  },
  {
   "cell_type": "code",
   "execution_count": 21,
   "metadata": {},
   "outputs": [],
   "source": [
    "# can we add sequential with class\n",
    "\n",
    "class MyCNNClassifier(nn.Module):\n",
    "    def __init__(self,in_c,n_classes):\n",
    "        super(MyCNNClassifier,self).__init__()\n",
    "\n",
    "        self.conv_block1 = nn.Sequential(\n",
    "            nn.Conv2d(in_c,32,kernel_size=3,stride=1,padding=1),\n",
    "            nn.BatchNorm2d(32),\n",
    "            nn.ReLU()\n",
    "        )\n",
    "\n",
    "        self.conv_block2 = nn.Sequential(\n",
    "            nn.Conv2d(32,64,kernel_size=3,stride=1,padding=1),\n",
    "            nn.BatchNorm2d(64),\n",
    "            nn.ReLU()\n",
    "        )\n",
    "\n",
    "        self.decoder = nn.Sequential(\n",
    "            nn.Linear(64*28*28,1024),\n",
    "            nn.Sigmoid(),\n",
    "            nn.Linear(1024,n_classes)\n",
    "        )\n",
    "\n",
    "    def forward(self, x:torch.Tensor) -> torch.Tensor:\n",
    "        x = self.conv_block1(x)\n",
    "        x = self.conv_block2(x)\n",
    "        x = x.view(x.size(0),-1)\n",
    "        x = self.decoder(x)\n",
    "\n",
    "        return x     \n",
    "\n",
    "\n",
    "        # inside the forward method self.con1 -> self.bn1 -> RELu()"
   ]
  },
  {
   "cell_type": "code",
   "execution_count": 22,
   "metadata": {},
   "outputs": [
    {
     "name": "stdout",
     "output_type": "stream",
     "text": [
      "MyCNNClassifier(\n",
      "  (conv_block1): Sequential(\n",
      "    (0): Conv2d(1, 32, kernel_size=(3, 3), stride=(1, 1), padding=(1, 1))\n",
      "    (1): BatchNorm2d(32, eps=1e-05, momentum=0.1, affine=True, track_running_stats=True)\n",
      "    (2): ReLU()\n",
      "  )\n",
      "  (conv_block2): Sequential(\n",
      "    (0): Conv2d(32, 64, kernel_size=(3, 3), stride=(1, 1), padding=(1, 1))\n",
      "    (1): BatchNorm2d(64, eps=1e-05, momentum=0.1, affine=True, track_running_stats=True)\n",
      "    (2): ReLU()\n",
      "  )\n",
      "  (decoder): Sequential(\n",
      "    (0): Linear(in_features=50176, out_features=1024, bias=True)\n",
      "    (1): Sigmoid()\n",
      "    (2): Linear(in_features=1024, out_features=10, bias=True)\n",
      "  )\n",
      ")\n"
     ]
    }
   ],
   "source": [
    "model = MyCNNClassifier(1,10)\n",
    "print(model)"
   ]
  },
  {
   "cell_type": "code",
   "execution_count": 23,
   "metadata": {},
   "outputs": [],
   "source": [
    "def conv_block(in_f,out_f, *args, **kwargs):\n",
    "    return nn.Sequential(\n",
    "        nn.Conv2d(in_f,out_f,*args,**kwargs),\n",
    "        nn.BatchNorm2d(out_f),\n",
    "        nn.ReLU()\n",
    "    )"
   ]
  },
  {
   "cell_type": "code",
   "execution_count": 24,
   "metadata": {},
   "outputs": [],
   "source": [
    "# conv block 1 and conv block 2 are almost the same we can merge them using seq\n",
    "class MyCNNClassifier(nn.Module):\n",
    "    def __init__(self,in_c,n_classes):\n",
    "        super(MyCNNClassifier,self).__init__()\n",
    "\n",
    "        self.encoder = nn.Sequential(\n",
    "            conv_block(in_c,32,kernel_size=3,stride=1,padding=1),\n",
    "            conv_block(32,64,kernel_size=3,stride=1,padding=1),\n",
    "        )\n",
    "\n",
    "        \n",
    "        self.decoder = nn.Sequential(\n",
    "            nn.Linear(64*28*28,1024),\n",
    "            nn.Sigmoid(),\n",
    "            nn.Linear(1024,n_classes)\n",
    "        )\n",
    "\n",
    "    def forward(self,x:torch.Tensor) -> torch.Tensor:\n",
    "        x = self.encoder(x)\n",
    "        x = x.view(x.size(0),-1)\n",
    "        x = self.decoder(x)\n",
    "        return x \n",
    "\n"
   ]
  },
  {
   "cell_type": "code",
   "execution_count": 25,
   "metadata": {},
   "outputs": [
    {
     "name": "stdout",
     "output_type": "stream",
     "text": [
      "MyCNNClassifier(\n",
      "  (encoder): Sequential(\n",
      "    (0): Sequential(\n",
      "      (0): Conv2d(1, 32, kernel_size=(3, 3), stride=(1, 1), padding=(1, 1))\n",
      "      (1): BatchNorm2d(32, eps=1e-05, momentum=0.1, affine=True, track_running_stats=True)\n",
      "      (2): ReLU()\n",
      "    )\n",
      "    (1): Sequential(\n",
      "      (0): Conv2d(32, 64, kernel_size=(3, 3), stride=(1, 1), padding=(1, 1))\n",
      "      (1): BatchNorm2d(64, eps=1e-05, momentum=0.1, affine=True, track_running_stats=True)\n",
      "      (2): ReLU()\n",
      "    )\n",
      "  )\n",
      "  (decoder): Sequential(\n",
      "    (0): Linear(in_features=50176, out_features=1024, bias=True)\n",
      "    (1): Sigmoid()\n",
      "    (2): Linear(in_features=1024, out_features=10, bias=True)\n",
      "  )\n",
      ")\n"
     ]
    }
   ],
   "source": [
    "model = MyCNNClassifier(1,10)\n",
    "print(model)"
   ]
  },
  {
   "attachments": {},
   "cell_type": "markdown",
   "metadata": {},
   "source": [
    "# what if i needed to add more layer in the encoder ?\n",
    "\"\"\"\n",
    "self.encoder = nn.Sequential(\n",
    "            conv_block(in_c,32,kernel_size=3,stride=1,padding=1),\n",
    "            conv_block(32,64,kernel_size=3,stride=1,padding=1),\n",
    "            conv_block(64,128,kernel_size=3,stride=1,padding=1),\n",
    "            conv_block(128,256,kernel_size=3,stride=1,padding=1),\n",
    "            conv_block(256,512,kernel_size=3,stride=1,padding=1),\n",
    "        )\n",
    "\"\"\"\n",
    "# this is not good enough\n"
   ]
  },
  {
   "cell_type": "code",
   "execution_count": 27,
   "metadata": {},
   "outputs": [
    {
     "name": "stdout",
     "output_type": "stream",
     "text": [
      "3 64\n",
      "64 128\n",
      "128 256\n",
      "256 512\n"
     ]
    }
   ],
   "source": [
    "sizes = [3,64,128,256,512]\n",
    "for in_f , out_f in zip(sizes,sizes[1:]):\n",
    "    print(in_f,out_f)"
   ]
  },
  {
   "cell_type": "code",
   "execution_count": 28,
   "metadata": {},
   "outputs": [],
   "source": [
    "class MyCNNClassifier(nn.Module):\n",
    "    def __init__(self,in_c,n_classes):\n",
    "        super(MyCNNClassifier,self).__init__()\n",
    "\n",
    "        self.enc_sizes = [in_c,32,64]\n",
    "\n",
    "        conv_blocks = [conv_block(in_f,out_f,kernel_size=3 ,padding=1)\n",
    "                       for in_f , out_f in zip(self.enc_sizes , self.enc_sizes[1:])] # uses a list comprehension\n",
    "        \n",
    "        self.encoder = nn.Sequential(*conv_blocks)\n",
    "\n",
    "        self.decoder = nn.Sequential(\n",
    "            nn.Linear(64*28*28,1024),\n",
    "            nn.Sigmoid(),\n",
    "            nn.Linear(1024,n_classes)\n",
    "        )\n",
    "\n",
    "    def forward(self, x: torch.Tensor) -> torch.Tensor:\n",
    "        x = self.encoder(x)\n",
    "        x = x.view(x.size(0),-1)\n",
    "        x = self.decoder(x)\n",
    "\n",
    "        return x\n"
   ]
  },
  {
   "cell_type": "code",
   "execution_count": 29,
   "metadata": {},
   "outputs": [
    {
     "name": "stdout",
     "output_type": "stream",
     "text": [
      "MyCNNClassifier(\n",
      "  (encoder): Sequential(\n",
      "    (0): Sequential(\n",
      "      (0): Conv2d(1, 32, kernel_size=(3, 3), stride=(1, 1), padding=(1, 1))\n",
      "      (1): BatchNorm2d(32, eps=1e-05, momentum=0.1, affine=True, track_running_stats=True)\n",
      "      (2): ReLU()\n",
      "    )\n",
      "    (1): Sequential(\n",
      "      (0): Conv2d(32, 64, kernel_size=(3, 3), stride=(1, 1), padding=(1, 1))\n",
      "      (1): BatchNorm2d(64, eps=1e-05, momentum=0.1, affine=True, track_running_stats=True)\n",
      "      (2): ReLU()\n",
      "    )\n",
      "  )\n",
      "  (decoder): Sequential(\n",
      "    (0): Linear(in_features=50176, out_features=1024, bias=True)\n",
      "    (1): Sigmoid()\n",
      "    (2): Linear(in_features=1024, out_features=10, bias=True)\n",
      "  )\n",
      ")\n"
     ]
    }
   ],
   "source": [
    "model = MyCNNClassifier(1,10)\n",
    "print(model)"
   ]
  },
  {
   "cell_type": "code",
   "execution_count": 30,
   "metadata": {},
   "outputs": [
    {
     "data": {
      "text/plain": [
       "==========================================================================================\n",
       "Layer (type:depth-idx)                   Output Shape              Param #\n",
       "==========================================================================================\n",
       "MyCNNClassifier                          [1, 10]                   --\n",
       "├─Sequential: 1-1                        [1, 64, 28, 28]           --\n",
       "│    └─Sequential: 2-1                   [1, 32, 28, 28]           --\n",
       "│    │    └─Conv2d: 3-1                  [1, 32, 28, 28]           320\n",
       "│    │    └─BatchNorm2d: 3-2             [1, 32, 28, 28]           64\n",
       "│    │    └─ReLU: 3-3                    [1, 32, 28, 28]           --\n",
       "│    └─Sequential: 2-2                   [1, 64, 28, 28]           --\n",
       "│    │    └─Conv2d: 3-4                  [1, 64, 28, 28]           18,496\n",
       "│    │    └─BatchNorm2d: 3-5             [1, 64, 28, 28]           128\n",
       "│    │    └─ReLU: 3-6                    [1, 64, 28, 28]           --\n",
       "├─Sequential: 1-2                        [1, 10]                   --\n",
       "│    └─Linear: 2-3                       [1, 1024]                 51,381,248\n",
       "│    └─Sigmoid: 2-4                      [1, 1024]                 --\n",
       "│    └─Linear: 2-5                       [1, 10]                   10,250\n",
       "==========================================================================================\n",
       "Total params: 51,410,506\n",
       "Trainable params: 51,410,506\n",
       "Non-trainable params: 0\n",
       "Total mult-adds (M): 66.14\n",
       "==========================================================================================\n",
       "Input size (MB): 0.00\n",
       "Forward/backward pass size (MB): 1.21\n",
       "Params size (MB): 205.64\n",
       "Estimated Total Size (MB): 206.86\n",
       "=========================================================================================="
      ]
     },
     "execution_count": 30,
     "metadata": {},
     "output_type": "execute_result"
    }
   ],
   "source": [
    "from torchinfo import summary\n",
    "summary(model,input_size=(1,1,28,28))"
   ]
  },
  {
   "cell_type": "code",
   "execution_count": 34,
   "metadata": {},
   "outputs": [],
   "source": [
    "class MyCNNClassifier(nn.Module):\n",
    "    def __init__(self,in_c,enc_sizes,n_classes):\n",
    "        super(MyCNNClassifier,self).__init__()\n",
    "\n",
    "        self.enc_sizes = [in_c,*enc_sizes]\n",
    "\n",
    "        conv_blocks = [conv_block(in_f,out_f,kernel_size=3 ,padding=1)\n",
    "                    for in_f , out_f in zip(self.enc_sizes , self.enc_sizes[1:])] # uses a list comprehension\n",
    "        \n",
    "\n",
    "        self.encoder = nn.Sequential(*conv_blocks)\n",
    "\n",
    "        self.decoder = nn.Sequential(\n",
    "            nn.Linear(64*28*28,1024),\n",
    "            nn.Sigmoid(),\n",
    "            nn.Linear(1024,n_classes)\n",
    "        )\n",
    "\n",
    "    def forward(self, x : torch.Tensor) -> torch.Tensor:\n",
    "        x = self.encoder(x)\n",
    "        x = x.view(x.size(0),-1)\n",
    "        x = self.decoder(x)\n",
    "\n",
    "        return x"
   ]
  },
  {
   "cell_type": "code",
   "execution_count": 37,
   "metadata": {},
   "outputs": [
    {
     "name": "stdout",
     "output_type": "stream",
     "text": [
      "MyCNNClassifier(\n",
      "  (encoder): Sequential(\n",
      "    (0): Sequential(\n",
      "      (0): Conv2d(1, 32, kernel_size=(3, 3), stride=(1, 1), padding=(1, 1))\n",
      "      (1): BatchNorm2d(32, eps=1e-05, momentum=0.1, affine=True, track_running_stats=True)\n",
      "      (2): ReLU()\n",
      "    )\n",
      "    (1): Sequential(\n",
      "      (0): Conv2d(32, 64, kernel_size=(3, 3), stride=(1, 1), padding=(1, 1))\n",
      "      (1): BatchNorm2d(64, eps=1e-05, momentum=0.1, affine=True, track_running_stats=True)\n",
      "      (2): ReLU()\n",
      "    )\n",
      "    (2): Sequential(\n",
      "      (0): Conv2d(64, 128, kernel_size=(3, 3), stride=(1, 1), padding=(1, 1))\n",
      "      (1): BatchNorm2d(128, eps=1e-05, momentum=0.1, affine=True, track_running_stats=True)\n",
      "      (2): ReLU()\n",
      "    )\n",
      "  )\n",
      "  (decoder): Sequential(\n",
      "    (0): Linear(in_features=50176, out_features=1024, bias=True)\n",
      "    (1): Sigmoid()\n",
      "    (2): Linear(in_features=1024, out_features=10, bias=True)\n",
      "  )\n",
      ")\n"
     ]
    }
   ],
   "source": [
    "model = MyCNNClassifier(1,[32,64,128],10)\n",
    "print(model)"
   ]
  },
  {
   "cell_type": "code",
   "execution_count": 38,
   "metadata": {},
   "outputs": [],
   "source": [
    "def dec_block(in_f,out_f):\n",
    "    return nn.Sequential(\n",
    "        nn.Linear(in_f,out_f),\n",
    "        nn.Sigmoid(),\n",
    "    )"
   ]
  },
  {
   "cell_type": "code",
   "execution_count": 39,
   "metadata": {},
   "outputs": [],
   "source": [
    "class MyCNNClassifier(nn.Module):\n",
    "    def __init__(self,in_c,enc_sizes,dec_sizes,n_classes):\n",
    "        super(MyCNNClassifier,self).__init__()\n",
    "\n",
    "        self.enc_sizes = [in_c,*enc_sizes]\n",
    "        self.dec_sizes = [64*28*28,*dec_sizes] # the encoder return 64*28*28\n",
    "\n",
    "        conv_blocks = [conv_block(in_f,out_f,kernel_size=3 ,padding=1)\n",
    "                    for in_f , out_f in zip(self.enc_sizes , self.enc_sizes[1:])] # uses a list comprehension\n",
    "        \n",
    "        dec_blocks = [dec_block(in_f,out_f)\n",
    "                    for in_f , out_f in zip(self.dec_sizes,self.dec_sizes[1:])]\n",
    "        \n",
    "        self.encoder = nn.Sequential(*conv_blocks)\n",
    "\n",
    "        self.decoder = nn.Sequential(*dec_blocks)\n",
    "\n",
    "        self.last = nn.Linear(self.dec_sizes[-1],n_classes)\n",
    "\n",
    "    \n",
    "    def forward(self, x : torch.Tensor) -> torch.Tensor:\n",
    "        x = self.encoder(x)\n",
    "        x = x.view(x.size(0),-1)\n",
    "        x = self.decoder(x)\n",
    "\n",
    "        return x\n"
   ]
  },
  {
   "cell_type": "code",
   "execution_count": 41,
   "metadata": {},
   "outputs": [
    {
     "name": "stdout",
     "output_type": "stream",
     "text": [
      "MyCNNClassifier(\n",
      "  (encoder): Sequential(\n",
      "    (0): Sequential(\n",
      "      (0): Conv2d(1, 32, kernel_size=(3, 3), stride=(1, 1), padding=(1, 1))\n",
      "      (1): BatchNorm2d(32, eps=1e-05, momentum=0.1, affine=True, track_running_stats=True)\n",
      "      (2): ReLU()\n",
      "    )\n",
      "    (1): Sequential(\n",
      "      (0): Conv2d(32, 64, kernel_size=(3, 3), stride=(1, 1), padding=(1, 1))\n",
      "      (1): BatchNorm2d(64, eps=1e-05, momentum=0.1, affine=True, track_running_stats=True)\n",
      "      (2): ReLU()\n",
      "    )\n",
      "  )\n",
      "  (decoder): Sequential(\n",
      "    (0): Sequential(\n",
      "      (0): Linear(in_features=50176, out_features=1024, bias=True)\n",
      "      (1): Sigmoid()\n",
      "    )\n",
      "    (1): Sequential(\n",
      "      (0): Linear(in_features=1024, out_features=512, bias=True)\n",
      "      (1): Sigmoid()\n",
      "    )\n",
      "  )\n",
      "  (last): Linear(in_features=512, out_features=10, bias=True)\n",
      ")\n"
     ]
    }
   ],
   "source": [
    "model = MyCNNClassifier(1,[32,64],[1024,512],10)\n",
    "print(model)"
   ]
  },
  {
   "cell_type": "code",
   "execution_count": 59,
   "metadata": {},
   "outputs": [],
   "source": [
    "# to upscale our code level\n",
    "\n",
    "class MyEncoder(nn.Module):\n",
    "    def __init__(self,enc_sizes):\n",
    "        super(MyEncoder, self).__init__()\n",
    "        self.conv_blocks = nn.Sequential(*[conv_block(in_f,out_f,kernel_size=3 ,padding=1)\n",
    "                    for in_f , out_f in zip(enc_sizes , enc_sizes[1:])] # uses a list comprehension\n",
    "                                        )\n",
    "    def forward(self,x: torch.Tensor) -> torch.Tensor:\n",
    "        return self.conv_blocks(x)\n",
    "    \n",
    "    "
   ]
  },
  {
   "cell_type": "code",
   "execution_count": 60,
   "metadata": {},
   "outputs": [],
   "source": [
    "class MyDecoder(nn.Module):\n",
    "    def __init__(self,dec_sizes,n_classes):\n",
    "        super(MyDecoder, self).__init__()\n",
    "        self.dec_blocks = nn.Sequential(*[dec_block(in_f,out_f)\n",
    "                    for in_f , out_f in zip(dec_sizes,dec_sizes[1:])]\n",
    "                                    )\n",
    "        self.last = nn.Linear(dec_sizes[-1],n_classes)\n",
    "\n",
    "    def forward(self,x: torch.Tensor) -> torch.Tensor:\n",
    "        \n",
    "        x = self.dec_blocks(x)\n",
    "        x = self.last(x)\n",
    "\n",
    "        return x"
   ]
  },
  {
   "cell_type": "code",
   "execution_count": 64,
   "metadata": {},
   "outputs": [],
   "source": [
    "class MyCNNClassifier(nn.Module):\n",
    "    def __init__(self,in_c,enc_sizes,dec_sizes,n_classes,im_dim):\n",
    "        super(MyCNNClassifier,self).__init__()\n",
    "\n",
    "        self.enc_sizes = [in_c,*enc_sizes]\n",
    "        self.dec_sizes = [self.enc_sizes[-1] * im_dim*im_dim , *dec_sizes]\n",
    "\n",
    "        self.encoder = MyEncoder(self.enc_sizes)\n",
    "\n",
    "        self.decoder = MyDecoder(self.dec_sizes,n_classes)\n",
    "\n",
    "    def forward(self,x : torch.Tensor) -> torch.Tensor:\n",
    "        x = self.encoder(x)\n",
    "        x = x.flatten(1)\n",
    "        x = self.decoder(x)\n",
    "\n",
    "        return x"
   ]
  },
  {
   "cell_type": "code",
   "execution_count": 74,
   "metadata": {},
   "outputs": [
    {
     "name": "stdout",
     "output_type": "stream",
     "text": [
      "MyCNNClassifier(\n",
      "  (encoder): MyEncoder(\n",
      "    (conv_blocks): Sequential(\n",
      "      (0): Sequential(\n",
      "        (0): Conv2d(1, 32, kernel_size=(3, 3), stride=(1, 1), padding=(1, 1))\n",
      "        (1): BatchNorm2d(32, eps=1e-05, momentum=0.1, affine=True, track_running_stats=True)\n",
      "        (2): ReLU()\n",
      "      )\n",
      "      (1): Sequential(\n",
      "        (0): Conv2d(32, 64, kernel_size=(3, 3), stride=(1, 1), padding=(1, 1))\n",
      "        (1): BatchNorm2d(64, eps=1e-05, momentum=0.1, affine=True, track_running_stats=True)\n",
      "        (2): ReLU()\n",
      "      )\n",
      "    )\n",
      "  )\n",
      "  (decoder): MyDecoder(\n",
      "    (dec_blocks): Sequential(\n",
      "      (0): Sequential(\n",
      "        (0): Linear(in_features=57600, out_features=1024, bias=True)\n",
      "        (1): Sigmoid()\n",
      "      )\n",
      "      (1): Sequential(\n",
      "        (0): Linear(in_features=1024, out_features=512, bias=True)\n",
      "        (1): Sigmoid()\n",
      "      )\n",
      "    )\n",
      "    (last): Linear(in_features=512, out_features=10, bias=True)\n",
      "  )\n",
      ")\n"
     ]
    }
   ],
   "source": [
    "model = MyCNNClassifier(1,[32,64],[1024,512],10,30)\n",
    "print(model)"
   ]
  },
  {
   "cell_type": "code",
   "execution_count": 75,
   "metadata": {},
   "outputs": [
    {
     "data": {
      "text/plain": [
       "==========================================================================================\n",
       "Layer (type:depth-idx)                   Output Shape              Param #\n",
       "==========================================================================================\n",
       "MyCNNClassifier                          [1, 10]                   --\n",
       "├─MyEncoder: 1-1                         [1, 64, 30, 30]           --\n",
       "│    └─Sequential: 2-1                   [1, 64, 30, 30]           --\n",
       "│    │    └─Sequential: 3-1              [1, 32, 30, 30]           384\n",
       "│    │    └─Sequential: 3-2              [1, 64, 30, 30]           18,624\n",
       "├─MyDecoder: 1-2                         [1, 10]                   --\n",
       "│    └─Sequential: 2-2                   [1, 512]                  --\n",
       "│    │    └─Sequential: 3-3              [1, 1024]                 58,983,424\n",
       "│    │    └─Sequential: 3-4              [1, 512]                  524,800\n",
       "│    └─Linear: 2-3                       [1, 10]                   5,130\n",
       "==========================================================================================\n",
       "Total params: 59,532,362\n",
       "Trainable params: 59,532,362\n",
       "Non-trainable params: 0\n",
       "Total mult-adds (M): 76.45\n",
       "==========================================================================================\n",
       "Input size (MB): 0.00\n",
       "Forward/backward pass size (MB): 1.39\n",
       "Params size (MB): 238.13\n",
       "Estimated Total Size (MB): 239.53\n",
       "=========================================================================================="
      ]
     },
     "execution_count": 75,
     "metadata": {},
     "output_type": "execute_result"
    }
   ],
   "source": [
    "summary(model,input_size=(1,1,30,30))"
   ]
  },
  {
   "attachments": {},
   "cell_type": "markdown",
   "metadata": {},
   "source": [
    "# Module List \n",
    "unlike list comp with seq. \n",
    "with module list you can trace and access the elments like a regular python list"
   ]
  },
  {
   "cell_type": "code",
   "execution_count": 76,
   "metadata": {},
   "outputs": [],
   "source": [
    "class MyModule(nn.Module):\n",
    "    def __init__(self,sizes):\n",
    "        super(MyModule,self).__init__()\n",
    "        self.layer = nn.ModuleList([nn.Linear(in_c,out_c)\n",
    "                        for in_c , out_c in zip(sizes , sizes[1:])])\n",
    "        \n",
    "        self.trace = []\n",
    "\n",
    "    def forward(self,x):\n",
    "        for layer in self.layer:\n",
    "            x = layer(x)\n",
    "            self.trace.append(x)\n",
    "        return x"
   ]
  },
  {
   "cell_type": "code",
   "execution_count": 77,
   "metadata": {},
   "outputs": [
    {
     "name": "stdout",
     "output_type": "stream",
     "text": [
      "torch.Size([4, 16])\n",
      "torch.Size([4, 32])\n"
     ]
    },
    {
     "data": {
      "text/plain": [
       "[None, None]"
      ]
     },
     "execution_count": 77,
     "metadata": {},
     "output_type": "execute_result"
    }
   ],
   "source": [
    "model = MyModule([1,16,32])\n",
    "model(torch.rand((4,1)))\n",
    "[print(trace.shape) for trace in model.trace]"
   ]
  },
  {
   "attachments": {},
   "cell_type": "markdown",
   "metadata": {},
   "source": [
    "# ModuleDict"
   ]
  },
  {
   "cell_type": "code",
   "execution_count": 78,
   "metadata": {},
   "outputs": [],
   "source": [
    "def conv_block(in_f, out_f , activation = 'relu',*args , **kwargs):\n",
    "    activations = nn.ModuleDict([\n",
    "        ['lrelu',nn.LeakyReLU()],\n",
    "        ['relu',nn.ReLU()]\n",
    "    ])\n",
    "\n",
    "    return nn.Sequential(\n",
    "        nn.Conv2d(in_f,out_f,*args,**kwargs),\n",
    "        nn.BatchNorm2d(out_f),\n",
    "        activations[activation]\n",
    "    )\n"
   ]
  },
  {
   "cell_type": "code",
   "execution_count": 80,
   "metadata": {},
   "outputs": [
    {
     "name": "stdout",
     "output_type": "stream",
     "text": [
      "Sequential(\n",
      "  (0): Conv2d(1, 32, kernel_size=(3, 3), stride=(1, 1), padding=(1, 1))\n",
      "  (1): BatchNorm2d(32, eps=1e-05, momentum=0.1, affine=True, track_running_stats=True)\n",
      "  (2): LeakyReLU(negative_slope=0.01)\n",
      ")\n",
      "Sequential(\n",
      "  (0): Conv2d(1, 32, kernel_size=(3, 3), stride=(1, 1), padding=(1, 1))\n",
      "  (1): BatchNorm2d(32, eps=1e-05, momentum=0.1, affine=True, track_running_stats=True)\n",
      "  (2): ReLU()\n",
      ")\n"
     ]
    }
   ],
   "source": [
    "print(conv_block(1,32,'lrelu',kernel_size = 3,padding=1))\n",
    "print(conv_block(1,32,'relu',kernel_size = 3,padding=1))"
   ]
  },
  {
   "cell_type": "code",
   "execution_count": null,
   "metadata": {},
   "outputs": [],
   "source": []
  }
 ],
 "metadata": {
  "kernelspec": {
   "display_name": "Python 3",
   "language": "python",
   "name": "python3"
  },
  "language_info": {
   "codemirror_mode": {
    "name": "ipython",
    "version": 3
   },
   "file_extension": ".py",
   "mimetype": "text/x-python",
   "name": "python",
   "nbconvert_exporter": "python",
   "pygments_lexer": "ipython3",
   "version": "3.10.4"
  },
  "orig_nbformat": 4
 },
 "nbformat": 4,
 "nbformat_minor": 2
}
